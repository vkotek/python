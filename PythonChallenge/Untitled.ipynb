{
 "cells": [
  {
   "cell_type": "markdown",
   "metadata": {
    "collapsed": true
   },
   "source": [
    "from PIL import Image, ImageDraw, ImageFont\n",
    "import sys, os\n",
    "\n",
    "yosemite = '/Users/ares/Pictures/Yosemite-us.jpg'\n",
    "me = '/Users/ares/Pictures/me.jpg'\n",
    "lyuba = '/Users/ares/Pictures/lyuba.jpg'\n",
    "\n",
    "kanji1 = \"蜀輸雄明京手子汁り\"\n",
    "kanji2 = '置蜀輸雄明京手子汁りしン'\n",
    "kanji3 = 'フォントサイズをにして、表示位置を少し調整すると、文字は表示できた。'\n",
    "kanji4 = '几仄仇什曰叩伜卍吊吃牝佇呆吠囮妓屁巫彷扮肛杓杞牢禿乖侘卦咎呟呵呻姐姑妾怯拗沽泄狗狐狛炒爬軋剃叛咳咤垢姦姜屍屏峙徊恍拮洩洒狡茹茫扁胚枷柩歪炸砒袂虻酊酋俯冤唖埃埒屓悍捏涜涎涅浣狸狽拿胱脆烙逅疹疼疱眩罠祟舐蚤啖唸埠娼屠徘悴悸掻掟淘猜脛梱桿焉烹痔痒笥粕蛋蛆訛訝貶躯扈勒喘壺奢媚幇徨愕揶揄揉渾猥葱悶晰腋脾腑棍椒毯焙琲甦痙痣筍筏絨蛙蛭蛤覗詛跋靱韮黍嗜猾隕腿腱楡爺牌痰痺睨罫褌蛾蜃蛸裔詭誅跪辟酩雹飴鼠厭嘘嘔塵滲漉慇敲膀槃煽睾翡蝕誑銚儚噛嬌憔憮憫撓戮膣膵皺瞑磔磋褪蝿誹麹鋲鋤餃澱澹薔薇憑燐瞠瞞諜諫蹂踵躾錨閻餐頸頷髭髷鮒濤獰懃膿朦臀邂癌瞰糠糞縷謗賽鍾鍼鍍闊餞顆鮭鮫鮪鮨濾燻瞼謳謬贅贄魍魎檻蟻蠍贋躇轍騙鯵鯖鯱鯰鹸懺灌瀾朧礫躁饉饅鰐鰊囁爛贔躊饒魑鰤鶯聾贖轢驕鰻鱈攣讐躙鰹'\n",
    "kanji_grade1 = '一右雨円王音下火花貝学気九休玉金空月犬見五口校左三山子四糸字耳七車手十出女小上森人水正生青夕石赤千川先早草足村大男竹中虫町天田土二日入年白八百文木本名目立力林六'\n",
    "korean = 'ㄱ ㄳ ㄴ ㄵ ㄶ ㄷ ㄹ ㄺ ㄻ ㄼ ㄽ ㄾ ㄿ ㅀ ㅁ ㅂ ㅄ ㅅ ㅇ ㅈ ㅊ ㅋ ㅌ ㅍ ㅎ ㄲ ㅆ ᇸ'.replace(' ','')\n",
    "symbs = '!@#$%^&*/-. '\n",
    "\n",
    "img = yosemite\n",
    "characters = korean\n",
    "size = 70\n",
    "ratio = 0.6\n",
    "\n",
    "img2symbols(img,characters,size, ratio)"
   ]
  },
  {
   "cell_type": "code",
   "execution_count": 310,
   "metadata": {
    "collapsed": false,
    "scrolled": true
   },
   "outputs": [],
   "source": [
    "def img2symbols(img, charset, size, ratio):\n",
    "    charlist = chars2dict(charset)\n",
    "    im = Image.open(img,'r').convert('L')\n",
    "    resize = (size, int(size/(im.width/(im.height*ratio))))\n",
    "    im = im.resize(resize)\n",
    "    for h in range(im.height):\n",
    "        for w in range(im.width):\n",
    "            x = im.getpixel(xy=(w,h))\n",
    "            print(getSymbol2(x, charlist),end='')\n",
    "        print('')"
   ]
  },
  {
   "cell_type": "code",
   "execution_count": 374,
   "metadata": {
    "collapsed": false
   },
   "outputs": [],
   "source": [
    "def char2val(x):\n",
    "    fnt = ImageFont.truetype('/Library/Fonts/Arial Unicode.ttf', 30)\n",
    "    txt = Image.new('L', (40,40),(255))\n",
    "    d = ImageDraw.Draw(txt)\n",
    "    d.text((1,1), x, font=fnt, fill=(0), spacing=0)\n",
    "    txt.show()\n",
    "    value = list(txt.getdata())\n",
    "    val = int(sum(value)/len(value))\n",
    "    return val"
   ]
  },
  {
   "cell_type": "code",
   "execution_count": 341,
   "metadata": {
    "collapsed": false
   },
   "outputs": [],
   "source": [
    "def chars2dict(charset):\n",
    "    charvals = []\n",
    "    chardict = {}\n",
    "    for char in characters:\n",
    "        z = char2val(char)\n",
    "        charvals.append(z)\n",
    "        chardict[char] = z\n",
    "    multiplier = 255/(max(charvals)-min(charvals))\n",
    "    final = []\n",
    "    for key in chardict:\n",
    "        final.append((key,int((chardict[key]-min(charvals))*multiplier)))\n",
    "    return sorted(final, key=lambda x: x[1])"
   ]
  },
  {
   "cell_type": "code",
   "execution_count": 342,
   "metadata": {
    "collapsed": true
   },
   "outputs": [],
   "source": [
    "def getSymbol2(s, chardict):\n",
    "    for char in chardict:\n",
    "        if s <= char[1]:\n",
    "            return char[0]\n",
    "    return \"ERROR: %s\" % s"
   ]
  },
  {
   "cell_type": "code",
   "execution_count": 356,
   "metadata": {
    "collapsed": false
   },
   "outputs": [
    {
     "data": {
      "text/plain": [
       "[('ㄻ', 0),\n",
       " ('ㄿ', 0),\n",
       " ('ㅀ', 0),\n",
       " ('ㄼ', 0),\n",
       " ('ㄾ', 8),\n",
       " ('ㅄ', 8),\n",
       " ('ㅎ', 24),\n",
       " ('ㄽ', 24),\n",
       " ('ㄹ', 41),\n",
       " ('ㄶ', 49),\n",
       " ('ㅌ', 49),\n",
       " ('ㄵ', 49),\n",
       " ('ㅂ', 57),\n",
       " ('ㄺ', 57),\n",
       " ('ㅆ', 57),\n",
       " ('ㅁ', 57),\n",
       " ('ㄳ', 74),\n",
       " ('ㅍ', 74),\n",
       " ('ㅊ', 74),\n",
       " ('ㅈ', 90),\n",
       " ('ㄲ', 98),\n",
       " ('ㄷ', 98),\n",
       " ('ㅇ', 106),\n",
       " ('ㅋ', 123),\n",
       " ('ㄴ', 139),\n",
       " ('ㄱ', 148),\n",
       " ('ㅅ', 148),\n",
       " (' ', 255)]"
      ]
     },
     "execution_count": 356,
     "metadata": {},
     "output_type": "execute_result"
    }
   ],
   "source": [
    "chars2dict(characters)"
   ]
  },
  {
   "cell_type": "code",
   "execution_count": 360,
   "metadata": {
    "collapsed": false
   },
   "outputs": [],
   "source": []
  },
  {
   "cell_type": "code",
   "execution_count": null,
   "metadata": {
    "collapsed": true
   },
   "outputs": [],
   "source": []
  }
 ],
 "metadata": {
  "kernelspec": {
   "display_name": "Python 3",
   "language": "python",
   "name": "python3"
  },
  "language_info": {
   "codemirror_mode": {
    "name": "ipython",
    "version": 3
   },
   "file_extension": ".py",
   "mimetype": "text/x-python",
   "name": "python",
   "nbconvert_exporter": "python",
   "pygments_lexer": "ipython3",
   "version": "3.5.2"
  }
 },
 "nbformat": 4,
 "nbformat_minor": 2
}
